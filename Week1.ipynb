{
  "nbformat": 4,
  "nbformat_minor": 0,
  "metadata": {
    "colab": {
      "name": "Untitled1.ipynb",
      "provenance": [],
      "authorship_tag": "ABX9TyP8veJ9lOBgHsMis5zvsjIV",
      "include_colab_link": true
    },
    "kernelspec": {
      "name": "python3",
      "display_name": "Python 3"
    },
    "language_info": {
      "name": "python"
    }
  },
  "cells": [
    {
      "cell_type": "markdown",
      "metadata": {
        "id": "view-in-github",
        "colab_type": "text"
      },
      "source": [
        "<a href=\"https://colab.research.google.com/github/dwityantherrys/PCVK_GENAP_2022/blob/main/Week1.ipynb\" target=\"_parent\"><img src=\"https://colab.research.google.com/assets/colab-badge.svg\" alt=\"Open In Colab\"/></a>"
      ]
    },
    {
      "cell_type": "code",
      "execution_count": null,
      "metadata": {
        "id": "xCSPxLskPYV-"
      },
      "outputs": [],
      "source": [
        "import numpy as np\n",
        "import panda as pd\n",
        "import cv2 as cv\n",
        "from google.colab.patches import cv2_imshow # for image display\n",
        "from skinmage import io\n",
        "from skinmage import transform\n",
        "from PIL import Image\n",
        "import matplotlib.pylab as plt\n",
        "\n",
        "urls = [\"https://iiif.lib.ncsu.edu/iiif/0052574/full/800,/0/default.jpg\",\"https://iiif.lib.ncsu.edu/iiif/0016007/full/800,/0/default.jpg\",\"https://placekitten.com/800/777\"] \n",
        "\n",
        "for url in urls:\n",
        "  image = io.imread(url)\n",
        "  image = cv.resize(image,(0,0),fx-0.5,fy=0.5)  \n",
        "  image_2 = cv.cvtColor(image,cv.COLOR_BGR2RGB)\n",
        "  final_frame = cv.hconcat((image,image_2))\n",
        "  cv2_imshow(final_frame)\n",
        "  print('\\n')\n"
      ]
    }
  ]
}